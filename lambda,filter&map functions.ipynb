{
 "cells": [
  {
   "cell_type": "code",
   "execution_count": null,
   "id": "2a7e226a-6097-4038-8bc7-501b8cf786d7",
   "metadata": {},
   "outputs": [],
   "source": [
    "#Lambda function\n",
    "#small anonymous functions defined using the lambda function"
   ]
  },
  {
   "cell_type": "code",
   "execution_count": 1,
   "id": "207d2158-a80e-4ce1-9b13-f3daa5ad1231",
   "metadata": {},
   "outputs": [],
   "source": [
    "#syntax\n",
    "#lambda argumeents : expression"
   ]
  },
  {
   "cell_type": "code",
   "execution_count": 3,
   "id": "a692e292-fbdf-4717-9c31-85f44dce5518",
   "metadata": {},
   "outputs": [
    {
     "data": {
      "text/plain": [
       "5"
      ]
     },
     "execution_count": 3,
     "metadata": {},
     "output_type": "execute_result"
    }
   ],
   "source": [
    "def add(a,b):\n",
    "    return a+b\n",
    "add(2,3)  "
   ]
  },
  {
   "cell_type": "code",
   "execution_count": 8,
   "id": "5c7ee214-f061-4221-9a43-4ffd17d7cdf9",
   "metadata": {},
   "outputs": [
    {
     "name": "stdout",
     "output_type": "stream",
     "text": [
      "5\n"
     ]
    }
   ],
   "source": [
    "a=lambda a,b:a+b\n",
    "print(a(3,2))"
   ]
  },
  {
   "cell_type": "code",
   "execution_count": 9,
   "id": "a84d9779-8d00-4e4d-8148-e992ff47e697",
   "metadata": {},
   "outputs": [
    {
     "data": {
      "text/plain": [
       "function"
      ]
     },
     "execution_count": 9,
     "metadata": {},
     "output_type": "execute_result"
    }
   ],
   "source": [
    "type(a)\n",
    "#it says it is also on eof the function"
   ]
  },
  {
   "cell_type": "code",
   "execution_count": 11,
   "id": "4276e6ec-e9a5-4451-9062-d48946f8e495",
   "metadata": {},
   "outputs": [
    {
     "data": {
      "text/plain": [
       "True"
      ]
     },
     "execution_count": 11,
     "metadata": {},
     "output_type": "execute_result"
    }
   ],
   "source": [
    "even=lambda n:n%2==0\n",
    "even(4)"
   ]
  },
  {
   "cell_type": "code",
   "execution_count": 12,
   "id": "45d21b66-5630-47fd-bc82-502b1e567ada",
   "metadata": {},
   "outputs": [
    {
     "data": {
      "text/plain": [
       "6"
      ]
     },
     "execution_count": 12,
     "metadata": {},
     "output_type": "execute_result"
    }
   ],
   "source": [
    "a=lambda a,b,c:a+b+c\n",
    "a(1,2,3)"
   ]
  },
  {
   "cell_type": "code",
   "execution_count": 18,
   "id": "9cc056eb-a1e4-47a8-8013-00c2bc38bd86",
   "metadata": {},
   "outputs": [
    {
     "name": "stdout",
     "output_type": "stream",
     "text": [
      "[1, 4, 9, 16, 25]\n"
     ]
    }
   ],
   "source": [
    " \n",
    "def square(numbers):\n",
    "    squares = []\n",
    "    for i in numbers:\n",
    "        squares.append(i**2)\n",
    "    return squares\n",
    "\n",
    "numbers = [1, 2, 3, 4, 5]\n",
    "squared_numbers = square(numbers)\n",
    "print(squared_numbers)\n"
   ]
  },
  {
   "cell_type": "code",
   "execution_count": 19,
   "id": "ca363ca8-242f-42ba-908b-d254bf50e196",
   "metadata": {},
   "outputs": [
    {
     "name": "stdout",
     "output_type": "stream",
     "text": [
      "[1, 4, 9, 16, 25]\n"
     ]
    }
   ],
   "source": [
    "def square(numbers):\n",
    "    return [i**2 for i in numbers]\n",
    "\n",
    "numbers = [1, 2, 3, 4, 5]\n",
    "squared_numbers = square(numbers)\n",
    "print(squared_numbers)\n"
   ]
  },
  {
   "cell_type": "code",
   "execution_count": 23,
   "id": "577e2020-973b-4f10-8033-17af2845ce85",
   "metadata": {},
   "outputs": [
    {
     "name": "stdout",
     "output_type": "stream",
     "text": [
      "1,4,9,16,25,"
     ]
    }
   ],
   "source": [
    "def square(number):\n",
    "    for i in number:\n",
    "        print(i**2,end=',')\n",
    "square(number)\n",
    "number=[1,2,3,4,5]"
   ]
  },
  {
   "cell_type": "code",
   "execution_count": 26,
   "id": "e9177097-ff0f-4fd0-9ecb-65faf245e6bd",
   "metadata": {},
   "outputs": [
    {
     "data": {
      "text/plain": [
       "[1, 4, 9, 16, 25]"
      ]
     },
     "execution_count": 26,
     "metadata": {},
     "output_type": "execute_result"
    }
   ],
   "source": [
    "##map() function\n",
    "#map function it applies a given function to all items in an list o any other iterable and returns a map object\n",
    "\n",
    "list(map(lambda x:x**2,numbers))\n",
    "\n",
    "\n"
   ]
  },
  {
   "cell_type": "code",
   "execution_count": 29,
   "id": "4fe550e4-3e59-4ceb-a77d-accdacd7713c",
   "metadata": {},
   "outputs": [
    {
     "data": {
      "text/plain": [
       "[1, 4, 27, 256, 3125]"
      ]
     },
     "execution_count": 29,
     "metadata": {},
     "output_type": "execute_result"
    }
   ],
   "source": [
    "def func(x):\n",
    "    return x**x#function\n",
    "number=[1,2,3,4,5]#list\n",
    "list(map(func,number))#map(fn,list)"
   ]
  },
  {
   "cell_type": "code",
   "execution_count": 33,
   "id": "52084592-cd66-4867-be1d-b7359cc1c3ac",
   "metadata": {},
   "outputs": [
    {
     "data": {
      "text/plain": [
       "[1, 4, 27, 256, 3125]"
      ]
     },
     "execution_count": 33,
     "metadata": {},
     "output_type": "execute_result"
    }
   ],
   "source": [
    "list(map(lambda x:x**x,number))#(function,number)"
   ]
  },
  {
   "cell_type": "code",
   "execution_count": 38,
   "id": "a88daf1e-763e-453c-a517-5d7330495f07",
   "metadata": {},
   "outputs": [
    {
     "data": {
      "text/plain": [
       "[5, 7, 9]"
      ]
     },
     "execution_count": 38,
     "metadata": {},
     "output_type": "execute_result"
    }
   ],
   "source": [
    "#map multible iterables\n",
    "num=[1,2,3]\n",
    "num2=[4,5,6]\n",
    "add_list=list(map(lambda x,y:x+y,num,num2))#(function, multiple iterables)\n",
    "add_list"
   ]
  },
  {
   "cell_type": "code",
   "execution_count": 39,
   "id": "a6584edd-e7c3-4a35-8b93-7bbea7b761fc",
   "metadata": {},
   "outputs": [
    {
     "ename": "SyntaxError",
     "evalue": "incomplete input (2425080836.py, line 1)",
     "output_type": "error",
     "traceback": [
      "\u001b[1;36m  Cell \u001b[1;32mIn[39], line 1\u001b[1;36m\u001b[0m\n\u001b[1;33m    a=list(map(int,input().split())\u001b[0m\n\u001b[1;37m                                   ^\u001b[0m\n\u001b[1;31mSyntaxError\u001b[0m\u001b[1;31m:\u001b[0m incomplete input\n"
     ]
    }
   ],
   "source": [
    " "
   ]
  },
  {
   "cell_type": "code",
   "execution_count": 44,
   "id": "5e87fc64-d18b-484b-a6b1-d6a425a4d4f7",
   "metadata": {},
   "outputs": [
    {
     "name": "stdin",
     "output_type": "stream",
     "text": [
      " 12345\n"
     ]
    }
   ],
   "source": [
    "#in place we can use anything like .lower(),upper()\n",
    "#list of strings to integers\n",
    "a = list(map(int, input().split()))#function,iterable,split for splitiing input \n",
    "#input string into a list of substrings based on whitespace by default. For example, if the user inputs \"1 2 3 4 5\", split() will convert this \n",
    "#into the list [\"1\", \"2\", \"3\", \"4\", \"5\"]."
   ]
  },
  {
   "cell_type": "code",
   "execution_count": 47,
   "id": "9de3720a-a0eb-4b74-9210-18bcb47f89bf",
   "metadata": {},
   "outputs": [
    {
     "name": "stdout",
     "output_type": "stream",
     "text": [
      "<class 'list'>\n"
     ]
    }
   ],
   "source": [
    "print(type(a))"
   ]
  },
  {
   "cell_type": "code",
   "execution_count": 50,
   "id": "785179b2-ccef-42bd-8b5d-e73c6fb58f7b",
   "metadata": {},
   "outputs": [
    {
     "name": "stdout",
     "output_type": "stream",
     "text": [
      "['RAHUL', 'RAMU', 'KNM', 'RAAYI']\n"
     ]
    }
   ],
   "source": [
    "#converting upper \n",
    "a=['rahul','ramu','knm','raayi']\n",
    "upper_words=list(map(str.upper,a))\n",
    "print(upper_words)"
   ]
  },
  {
   "cell_type": "code",
   "execution_count": 53,
   "id": "0ef6d7b5-3701-44b2-9b30-2bf98516ed89",
   "metadata": {},
   "outputs": [
    {
     "data": {
      "text/plain": [
       "['krish', 'Rahul']"
      ]
     },
     "execution_count": 53,
     "metadata": {},
     "output_type": "execute_result"
    }
   ],
   "source": [
    "def name(person):\n",
    "    return person['name']\n",
    "p=[\n",
    "{'name':'krish','age':32},\n",
    "{'name':'Rahul','age':23}\n",
    "    ]\n",
    "\n",
    "list(map(name,p))"
   ]
  },
  {
   "cell_type": "code",
   "execution_count": 54,
   "id": "806302d5-4792-45f0-8a28-8394c06d36a5",
   "metadata": {},
   "outputs": [],
   "source": [
    "##it is good for iterable data structure we can write code more efficiently"
   ]
  },
  {
   "cell_type": "code",
   "execution_count": 56,
   "id": "d31f6546-4da5-4386-994f-b136d661db21",
   "metadata": {},
   "outputs": [],
   "source": [
    "#Filter function \n",
    "#used to filter out items on list or any iterable based on the conditions\n"
   ]
  },
  {
   "cell_type": "code",
   "execution_count": 58,
   "id": "500c8b20-ad7d-42a6-8c8d-5476b58b89ea",
   "metadata": {},
   "outputs": [
    {
     "data": {
      "text/plain": [
       "True"
      ]
     },
     "execution_count": 58,
     "metadata": {},
     "output_type": "execute_result"
    }
   ],
   "source": [
    "def even(num):\n",
    "    if num%2==0:\n",
    "        return True\n",
    "even(20)"
   ]
  },
  {
   "cell_type": "code",
   "execution_count": 61,
   "id": "db6f4b19-6932-4726-adb2-8e35268f2005",
   "metadata": {},
   "outputs": [
    {
     "name": "stdout",
     "output_type": "stream",
     "text": [
      "[2, 4]\n"
     ]
    }
   ],
   "source": [
    "lit=[1,2,3,4,5,6,7,8]\n",
    "even_and_greatherthan_five=list(filter(lambda x:x<=5 and x%2==0,lit))#function,list\n",
    "print(even_and_greatherthan_five)\n",
    "#removing unwanted in iterables\n"
   ]
  },
  {
   "cell_type": "code",
   "execution_count": null,
   "id": "c7e739cf-eeda-4a84-8cb1-c2d5b3f3a09e",
   "metadata": {},
   "outputs": [],
   "source": []
  }
 ],
 "metadata": {
  "kernelspec": {
   "display_name": "Python 3 (ipykernel)",
   "language": "python",
   "name": "python3"
  },
  "language_info": {
   "codemirror_mode": {
    "name": "ipython",
    "version": 3
   },
   "file_extension": ".py",
   "mimetype": "text/x-python",
   "name": "python",
   "nbconvert_exporter": "python",
   "pygments_lexer": "ipython3",
   "version": "3.11.7"
  }
 },
 "nbformat": 4,
 "nbformat_minor": 5
}
