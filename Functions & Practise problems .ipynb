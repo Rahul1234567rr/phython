{
 "cells": [
  {
   "cell_type": "code",
   "execution_count": null,
   "id": "cba60e7f-2dda-4191-9902-e212fa8e6697",
   "metadata": {},
   "outputs": [],
   "source": [
    "#Functions are for organising , reusing code better readability"
   ]
  },
  {
   "cell_type": "code",
   "execution_count": 1,
   "id": "0486d2a7-889e-4ac3-9559-a48165230bdd",
   "metadata": {},
   "outputs": [
    {
     "name": "stdout",
     "output_type": "stream",
     "text": [
      "number is even\n"
     ]
    }
   ],
   "source": [
    "n=24 \n",
    "if n%2==0:\n",
    "    print('number is even')\n",
    "else:\n",
    "    print('number is odd')"
   ]
  },
  {
   "cell_type": "code",
   "execution_count": 11,
   "id": "73a5b030-9ad8-4789-93ca-c816a0874c15",
   "metadata": {},
   "outputs": [
    {
     "name": "stdout",
     "output_type": "stream",
     "text": [
      "number is odd\n"
     ]
    }
   ],
   "source": [
    "def evenodd(n):\n",
    "    \"This function is for evn or odd number identification\"\n",
    "    if n%2==0:\n",
    "        print('number is even')\n",
    "    else:\n",
    "        print('number is odd')\n",
    "evenodd(57)\n",
    "    "
   ]
  },
  {
   "cell_type": "code",
   "execution_count": 14,
   "id": "62110a41-06fd-4eca-ae0a-a010c878761d",
   "metadata": {},
   "outputs": [
    {
     "name": "stdout",
     "output_type": "stream",
     "text": [
      "25\n"
     ]
    }
   ],
   "source": [
    "#function with multiple parameters\n",
    "def func(a,b):\n",
    "    c=a+b\n",
    "    print(c)\n",
    "func(22,3)"
   ]
  },
  {
   "cell_type": "code",
   "execution_count": 16,
   "id": "aac8fcd7-def6-4cdd-b901-0bad5cb0e1ed",
   "metadata": {},
   "outputs": [
    {
     "name": "stdout",
     "output_type": "stream",
     "text": [
      "hello rahul Great to see u\n"
     ]
    }
   ],
   "source": [
    "#default parameters\n",
    "def greet(name):\n",
    "    print(f'hello {name} Great to see u')\n",
    "greet('rahul')"
   ]
  },
  {
   "cell_type": "code",
   "execution_count": 19,
   "id": "9e5bc912-6953-43d7-8cdb-78aee2c2793a",
   "metadata": {},
   "outputs": [
    {
     "name": "stdout",
     "output_type": "stream",
     "text": [
      "hello Bro Great to see u\n"
     ]
    }
   ],
   "source": [
    "#default parameters\n",
    "def greet(name='Bro'):\n",
    "    print(f'hello {name} Great to see u')\n",
    "greet()"
   ]
  },
  {
   "cell_type": "code",
   "execution_count": 21,
   "id": "d987371d-bc82-42e2-91c9-1606e4200108",
   "metadata": {},
   "outputs": [
    {
     "name": "stdout",
     "output_type": "stream",
     "text": [
      "hello Rahul Great to see u\n"
     ]
    }
   ],
   "source": [
    "#default parameters\n",
    "def greet(name='Bro'):\n",
    "    print(f'hello {name} Great to see u')\n",
    "greet('Rahul')\n",
    " "
   ]
  },
  {
   "cell_type": "code",
   "execution_count": 22,
   "id": "28209867-8193-4f26-bf05-c031624d6b87",
   "metadata": {},
   "outputs": [
    {
     "name": "stdout",
     "output_type": "stream",
     "text": [
      "1\n",
      "2\n",
      "3\n",
      "4\n",
      "54\n",
      "6\n",
      "krish\n"
     ]
    }
   ],
   "source": [
    "#Positional argumens\n",
    "def function(*krish):\n",
    "    for i in krish:\n",
    "        print(i)\n",
    "function(1,2,3,4,54,6,'krish')"
   ]
  },
  {
   "cell_type": "code",
   "execution_count": 24,
   "id": "fe5c9aa6-faa1-4dee-ae86-4b273b37890f",
   "metadata": {},
   "outputs": [
    {
     "name": "stdout",
     "output_type": "stream",
     "text": [
      "1\n",
      "2\n",
      "3\n",
      "4\n",
      "54\n",
      "6\n",
      "krish\n"
     ]
    }
   ],
   "source": [
    "#basic syntax \n",
    "def function(*args):\n",
    "    for i in args:\n",
    "        print(i)\n",
    "function(1,2,3,4,54,6,'krish')"
   ]
  },
  {
   "cell_type": "code",
   "execution_count": 32,
   "id": "cb2ad59e-f779-466a-ab71-3032e540967e",
   "metadata": {},
   "outputs": [],
   "source": [
    "#Key Word Arguments ()key value pair like dictionaries\n",
    "def function(**kwargs):\n",
    "    for key,value in kwargs.items():\n",
    "        print(f\"{key}:{value}\")"
   ]
  },
  {
   "cell_type": "code",
   "execution_count": 31,
   "id": "bf1c36aa-8593-4e2e-91ef-18db49d32e84",
   "metadata": {},
   "outputs": [
    {
     "name": "stdout",
     "output_type": "stream",
     "text": [
      "name:rahul\n",
      "Age:22\n"
     ]
    }
   ],
   "source": [
    "function(name='rahul',Age='22')"
   ]
  },
  {
   "cell_type": "code",
   "execution_count": 42,
   "id": "0b23b12d-ec9a-4dd1-802f-111d68891900",
   "metadata": {},
   "outputs": [],
   "source": [
    "#combination of both arguments and postional arguments \n",
    "\n",
    "\n",
    "def function(*args,**kwargs):\n",
    "    for i in args:\n",
    "        print(f'positionargument:{i}')\n",
    "    for key,value in kwargs.items():\n",
    "        print(f'the {key} and {value} bro')"
   ]
  },
  {
   "cell_type": "code",
   "execution_count": 43,
   "id": "5f376951-b39c-4c96-b92c-256d9816a49a",
   "metadata": {},
   "outputs": [
    {
     "name": "stdout",
     "output_type": "stream",
     "text": [
      "positionargument:1\n",
      "positionargument:2\n",
      "positionargument:3\n",
      "the name and rahul bro\n",
      "the Age and 22 bro\n"
     ]
    }
   ],
   "source": [
    "function(1,2,3,name='rahul',Age='22')"
   ]
  },
  {
   "cell_type": "code",
   "execution_count": 46,
   "id": "9ce1a318-cd0c-409f-b65e-e00b58b089af",
   "metadata": {},
   "outputs": [
    {
     "data": {
      "text/plain": [
       "(22, 3, 25)"
      ]
     },
     "execution_count": 46,
     "metadata": {},
     "output_type": "execute_result"
    }
   ],
   "source": [
    "#function can return two values also\n",
    "def func(a,b):\n",
    "    c=a+b\n",
    "    return(a,b,c)\n",
    "func(22,3)\n"
   ]
  },
  {
   "cell_type": "code",
   "execution_count": 52,
   "id": "e94d175e-f3c0-404e-a114-515f7350dc1f",
   "metadata": {},
   "outputs": [
    {
     "name": "stdout",
     "output_type": "stream",
     "text": [
      "89.6\n"
     ]
    }
   ],
   "source": [
    "##temparature converter\n",
    "\n",
    "def temparature_converter(temp,unit):\n",
    "    'coverts def f to celcius and vice versa'\n",
    "    if unit=='C':\n",
    "        return temp*(9/5)+32\n",
    "    elif unit=='F':\n",
    "        return (temp-32)+5/9\n",
    "    else:\n",
    "        return temp\n",
    "print(temparature_converter(32,'C'))"
   ]
  },
  {
   "cell_type": "code",
   "execution_count": 53,
   "id": "14da2b09-245f-4c74-bc5f-99ccdaa4b909",
   "metadata": {},
   "outputs": [
    {
     "data": {
      "text/plain": [
       "77.0"
      ]
     },
     "execution_count": 53,
     "metadata": {},
     "output_type": "execute_result"
    }
   ],
   "source": [
    "temparature_converter(25,'C')"
   ]
  },
  {
   "cell_type": "code",
   "execution_count": 59,
   "id": "b60f2e39-fa1e-4e60-9a2b-86b32f6fa86d",
   "metadata": {},
   "outputs": [
    {
     "name": "stdout",
     "output_type": "stream",
     "text": [
      "False\n"
     ]
    }
   ],
   "source": [
    "def is_strong(password):\n",
    "    if len(password)<8:\n",
    "        return False\n",
    "    if not any(char.isdigit() for char in password):\n",
    "        return False\n",
    "    if not any(char.islower() for char in password):\n",
    "        return False\n",
    "    if not any(char.isupper() for char in password):\n",
    "        return False\n",
    "    if not (char in '!@#$%^&*()_+' for char in password):\n",
    "        return False\n",
    "    return True\n",
    "print(is_strong('RAHUL'))\n",
    "    "
   ]
  },
  {
   "cell_type": "code",
   "execution_count": 64,
   "id": "ea1e66e1-bef4-45e4-99b4-cc4e64d3df3c",
   "metadata": {},
   "outputs": [
    {
     "name": "stdout",
     "output_type": "stream",
     "text": [
      "True\n"
     ]
    }
   ],
   "source": [
    "print(is_strong('Rahul@1432'))\n",
    "#if true it is strong"
   ]
  },
  {
   "cell_type": "code",
   "execution_count": 84,
   "id": "72899853-3cca-4f00-884c-eacd31c9b097",
   "metadata": {},
   "outputs": [],
   "source": [
    "def calculate_total_cost(cart):\n",
    "    total_cost=0\n",
    "    for i in cart:\n",
    "        total_cost=total_cost+i['price']*i['quantity']\n",
    "    return total_cost\n",
    "\n",
    "\n",
    "\n",
    "cart=[\n",
    "{'name':'Apple','price':0.5,'quantity':4},\n",
    "{'name':'banana','price':0.3,'quantity':6},\n",
    "{'name':'Tomato','price':0.7,'quantity':3}\n",
    "]"
   ]
  },
  {
   "cell_type": "code",
   "execution_count": 86,
   "id": "2f8b3926-030a-440a-88dc-7a44035adcc4",
   "metadata": {},
   "outputs": [
    {
     "name": "stdout",
     "output_type": "stream",
     "text": [
      "5.8999999999999995\n"
     ]
    }
   ],
   "source": [
    "print(calculate_total_cost(cart))\n",
    " "
   ]
  },
  {
   "cell_type": "code",
   "execution_count": 79,
   "id": "636ca787-138b-4600-ad6e-609c161f315c",
   "metadata": {},
   "outputs": [
    {
     "data": {
      "text/plain": [
       "[{'name': 'Apple', 'price': 0.5, 'quantity': 4},\n",
       " {'name': 'banana', 'price': 0.3, 'quantity': 6},\n",
       " {'name': 'Tomato', 'price': 0.7, 'quantity': 3}]"
      ]
     },
     "execution_count": 79,
     "metadata": {},
     "output_type": "execute_result"
    }
   ],
   "source": [
    "cart"
   ]
  },
  {
   "cell_type": "code",
   "execution_count": null,
   "id": "48faedad-4723-48b1-aa0d-9dddcadaef19",
   "metadata": {},
   "outputs": [],
   "source": [
    "def pall(string):"
   ]
  },
  {
   "cell_type": "code",
   "execution_count": 103,
   "id": "c6fc892a-139e-438d-b2d4-dc472a50fc19",
   "metadata": {},
   "outputs": [
    {
     "name": "stdout",
     "output_type": "stream",
     "text": [
      "pallandrome\n"
     ]
    }
   ],
   "source": [
    "def pall(s):\n",
    "    s=s.lower().replace(\" \",\"\")\n",
    "    a=s[::-1]\n",
    "    if s==a:\n",
    "        return('pallandrome')\n",
    "    else:\n",
    "        return('not a pallandrome')\n",
    "print(pall('a man a plan a canal Panama'))\n",
    "\n",
    " "
   ]
  },
  {
   "cell_type": "code",
   "execution_count": 101,
   "id": "6e73ace7-1c54-4304-a74c-2d62dd396deb",
   "metadata": {},
   "outputs": [
    {
     "name": "stdout",
     "output_type": "stream",
     "text": [
      "MALAYALAM\n"
     ]
    }
   ],
   "source": [
    "print(a)"
   ]
  },
  {
   "cell_type": "code",
   "execution_count": 107,
   "id": "d655f922-e101-40bd-bdb2-b58af6f9d2b7",
   "metadata": {},
   "outputs": [
    {
     "name": "stdout",
     "output_type": "stream",
     "text": [
      "120\n"
     ]
    }
   ],
   "source": [
    "#the same function we are calling inside the function is called the recursion\n",
    "\n",
    "\n",
    "def fact(n): \n",
    "    if n==0 or n==1:#base condition\n",
    "        return 1\n",
    "    else:\n",
    "        return n*(fact(n-1))\n",
    "print(fact(5))  \n",
    "\n",
    "\n",
    "\n",
    "\n",
    "#fact(n)=nx(n-1)x(n-2)x(n-3)....x3x2x1\n",
    "#fact(n-1)=(n-1)x(n-2)x(n-3)....x3x2x1\n",
    "#fact(n)=nxfact(n-1)\n",
    "#fact(n)=nx(n-1)xfact(n-2)\n",
    "#from this hence proved that fact(n)xfact(n-1)\n",
    "#we are calling the same function and only parameters are changing here the problem it self needs recursion\n",
    "#fact(1) & fat(0)==1\n",
    "#that's why we kept base condition at top \n",
    "\n",
    "\n",
    "#code working firstly,let's take example 3 \n",
    "#fact(3)\n",
    "#3xfact(2)\n",
    "#2xfact(1)\n",
    "#fact(1)==1\n",
    "#reversing\n",
    "#2xfact(1)--->2x1=2\n",
    "#3xfact(2)--->3x2=6\n",
    "#fact(3)--->6 is the answer "
   ]
  },
  {
   "cell_type": "code",
   "execution_count": 118,
   "id": "996e1f25-43d5-464c-857d-d937b3351737",
   "metadata": {},
   "outputs": [
    {
     "name": "stdout",
     "output_type": "stream",
     "text": [
      "{'my': 2, 'name': 1, 'is': 1, 'rahul': 1, 'bro': 1}\n"
     ]
    }
   ],
   "source": [
    "def count_word_frtequency(filepath):\n",
    "    word_count={}\n",
    "    with open(filepath,'r') as file:\n",
    "        for line in file:\n",
    "            words=line.split()\n",
    "            for word in words:\n",
    "                word=word.lower().strip('!@#$%^&*()_+/*-')\n",
    "                word_count[word]=word_count.get(word,0)+1\n",
    "    return word_count\n",
    "filepath=filepath = \"C:\\\\Users\\\\naray\\\\OneDrive\\\\Attachments\\\\Documents\\\\Statistcs Code basics\\\\rr.txt\"\n",
    "word_frequency=count_word_frtequency(filepath)\n",
    "\n",
    "print(word_frequency)"
   ]
  },
  {
   "cell_type": "code",
   "execution_count": 119,
   "id": "323b973d-d1fe-4fa4-bff2-bd505e5887f4",
   "metadata": {},
   "outputs": [],
   "source": [
    " #valid email need to learn regular expressions"
   ]
  },
  {
   "cell_type": "code",
   "execution_count": null,
   "id": "69457966-f704-46c4-97ef-00371fe14fc5",
   "metadata": {},
   "outputs": [],
   "source": []
  }
 ],
 "metadata": {
  "kernelspec": {
   "display_name": "Python 3 (ipykernel)",
   "language": "python",
   "name": "python3"
  },
  "language_info": {
   "codemirror_mode": {
    "name": "ipython",
    "version": 3
   },
   "file_extension": ".py",
   "mimetype": "text/x-python",
   "name": "python",
   "nbconvert_exporter": "python",
   "pygments_lexer": "ipython3",
   "version": "3.11.7"
  }
 },
 "nbformat": 4,
 "nbformat_minor": 5
}
